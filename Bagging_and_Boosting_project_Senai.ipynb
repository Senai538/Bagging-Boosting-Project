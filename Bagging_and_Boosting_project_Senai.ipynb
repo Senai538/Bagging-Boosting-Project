{
  "nbformat": 4,
  "nbformat_minor": 0,
  "metadata": {
    "colab": {
      "name": "Bagging and Boosting project_Senai.ipynb",
      "provenance": [],
      "include_colab_link": true
    },
    "kernelspec": {
      "display_name": "Python 3 (ipykernel)",
      "language": "python",
      "name": "python3"
    },
    "language_info": {
      "codemirror_mode": {
        "name": "ipython",
        "version": 3
      },
      "file_extension": ".py",
      "mimetype": "text/x-python",
      "name": "python",
      "nbconvert_exporter": "python",
      "pygments_lexer": "ipython3",
      "version": "3.8.5"
    }
  },
  "cells": [
    {
      "cell_type": "markdown",
      "metadata": {
        "id": "view-in-github",
        "colab_type": "text"
      },
      "source": [
        "<a href=\"https://colab.research.google.com/github/Senai538/Bagging-Boosting-Project/blob/main/Bagging_and_Boosting_project_Senai.ipynb\" target=\"_parent\"><img src=\"https://colab.research.google.com/assets/colab-badge.svg\" alt=\"Open In Colab\"/></a>"
      ]
    },
    {
      "cell_type": "code",
      "metadata": {
        "colab": {
          "base_uri": "https://localhost:8080/"
        },
        "id": "7LmTUJ6indok",
        "outputId": "b6e05382-76e5-4693-c6bb-8976d3decffc"
      },
      "source": [
        "pip install xgboost"
      ],
      "execution_count": null,
      "outputs": [
        {
          "output_type": "stream",
          "name": "stdout",
          "text": [
            "Requirement already satisfied: xgboost in /usr/local/lib/python3.7/dist-packages (0.90)\n",
            "Requirement already satisfied: scipy in /usr/local/lib/python3.7/dist-packages (from xgboost) (1.4.1)\n",
            "Requirement already satisfied: numpy in /usr/local/lib/python3.7/dist-packages (from xgboost) (1.19.5)\n"
          ]
        }
      ]
    },
    {
      "cell_type": "code",
      "metadata": {
        "id": "CJm4Kzxrndol"
      },
      "source": [
        "import numpy as np\n",
        "import pandas as pd\n",
        "import matplotlib.pyplot as plt\n",
        "%matplotlib inline\n",
        "import seaborn as sns\n",
        "import sklearn\n",
        "from sklearn.model_selection import train_test_split\n",
        "from sklearn.model_selection import GridSearchCV\n",
        "from sklearn.model_selection import cross_val_score\n",
        "from sklearn.model_selection import KFold\n",
        "from sklearn.preprocessing import LabelEncoder\n",
        "from sklearn.tree import DecisionTreeClassifier\n",
        "from sklearn.ensemble import AdaBoostClassifier\n",
        "from sklearn.ensemble import GradientBoostingClassifier\n",
        "from sklearn import metrics\n",
        "import xgboost as xgb\n",
        "from xgboost import XGBClassifier\n",
        "from xgboost import plot_importance\n",
        "from scipy.stats import zscore\n",
        "import os\n",
        "import warnings\n",
        "warnings.filterwarnings('ignore')"
      ],
      "execution_count": null,
      "outputs": []
    },
    {
      "cell_type": "code",
      "metadata": {
        "colab": {
          "base_uri": "https://localhost:8080/",
          "height": 979
        },
        "id": "zbSbzxMmndom",
        "outputId": "d243c91e-df05-4f2d-d06c-4de7b2369cd4"
      },
      "source": [
        "df = pd.read_csv('/content/talking_data.csv')\n",
        "df.head(30)"
      ],
      "execution_count": null,
      "outputs": [
        {
          "output_type": "execute_result",
          "data": {
            "text/html": [
              "<div>\n",
              "<style scoped>\n",
              "    .dataframe tbody tr th:only-of-type {\n",
              "        vertical-align: middle;\n",
              "    }\n",
              "\n",
              "    .dataframe tbody tr th {\n",
              "        vertical-align: top;\n",
              "    }\n",
              "\n",
              "    .dataframe thead th {\n",
              "        text-align: right;\n",
              "    }\n",
              "</style>\n",
              "<table border=\"1\" class=\"dataframe\">\n",
              "  <thead>\n",
              "    <tr style=\"text-align: right;\">\n",
              "      <th></th>\n",
              "      <th>ip</th>\n",
              "      <th>app</th>\n",
              "      <th>device</th>\n",
              "      <th>os</th>\n",
              "      <th>channel</th>\n",
              "      <th>click_time</th>\n",
              "      <th>attributed_time</th>\n",
              "      <th>is_attributed</th>\n",
              "    </tr>\n",
              "  </thead>\n",
              "  <tbody>\n",
              "    <tr>\n",
              "      <th>0</th>\n",
              "      <td>87540</td>\n",
              "      <td>12</td>\n",
              "      <td>1</td>\n",
              "      <td>13</td>\n",
              "      <td>497</td>\n",
              "      <td>2017-11-07 09:30:38</td>\n",
              "      <td>NaN</td>\n",
              "      <td>0</td>\n",
              "    </tr>\n",
              "    <tr>\n",
              "      <th>1</th>\n",
              "      <td>105560</td>\n",
              "      <td>25</td>\n",
              "      <td>1</td>\n",
              "      <td>17</td>\n",
              "      <td>259</td>\n",
              "      <td>2017-11-07 13:40:27</td>\n",
              "      <td>NaN</td>\n",
              "      <td>0</td>\n",
              "    </tr>\n",
              "    <tr>\n",
              "      <th>2</th>\n",
              "      <td>101424</td>\n",
              "      <td>12</td>\n",
              "      <td>1</td>\n",
              "      <td>19</td>\n",
              "      <td>212</td>\n",
              "      <td>2017-11-07 18:05:24</td>\n",
              "      <td>NaN</td>\n",
              "      <td>0</td>\n",
              "    </tr>\n",
              "    <tr>\n",
              "      <th>3</th>\n",
              "      <td>94584</td>\n",
              "      <td>13</td>\n",
              "      <td>1</td>\n",
              "      <td>13</td>\n",
              "      <td>477</td>\n",
              "      <td>2017-11-07 04:58:08</td>\n",
              "      <td>NaN</td>\n",
              "      <td>0</td>\n",
              "    </tr>\n",
              "    <tr>\n",
              "      <th>4</th>\n",
              "      <td>68413</td>\n",
              "      <td>12</td>\n",
              "      <td>1</td>\n",
              "      <td>1</td>\n",
              "      <td>178</td>\n",
              "      <td>2017-11-09 09:00:09</td>\n",
              "      <td>NaN</td>\n",
              "      <td>0</td>\n",
              "    </tr>\n",
              "    <tr>\n",
              "      <th>5</th>\n",
              "      <td>93663</td>\n",
              "      <td>3</td>\n",
              "      <td>1</td>\n",
              "      <td>17</td>\n",
              "      <td>115</td>\n",
              "      <td>2017-11-09 01:22:13</td>\n",
              "      <td>NaN</td>\n",
              "      <td>0</td>\n",
              "    </tr>\n",
              "    <tr>\n",
              "      <th>6</th>\n",
              "      <td>17059</td>\n",
              "      <td>1</td>\n",
              "      <td>1</td>\n",
              "      <td>17</td>\n",
              "      <td>135</td>\n",
              "      <td>2017-11-09 01:17:58</td>\n",
              "      <td>NaN</td>\n",
              "      <td>0</td>\n",
              "    </tr>\n",
              "    <tr>\n",
              "      <th>7</th>\n",
              "      <td>121505</td>\n",
              "      <td>9</td>\n",
              "      <td>1</td>\n",
              "      <td>25</td>\n",
              "      <td>442</td>\n",
              "      <td>2017-11-07 10:01:53</td>\n",
              "      <td>NaN</td>\n",
              "      <td>0</td>\n",
              "    </tr>\n",
              "    <tr>\n",
              "      <th>8</th>\n",
              "      <td>192967</td>\n",
              "      <td>2</td>\n",
              "      <td>2</td>\n",
              "      <td>22</td>\n",
              "      <td>364</td>\n",
              "      <td>2017-11-08 09:35:17</td>\n",
              "      <td>NaN</td>\n",
              "      <td>0</td>\n",
              "    </tr>\n",
              "    <tr>\n",
              "      <th>9</th>\n",
              "      <td>143636</td>\n",
              "      <td>3</td>\n",
              "      <td>1</td>\n",
              "      <td>19</td>\n",
              "      <td>135</td>\n",
              "      <td>2017-11-08 12:35:26</td>\n",
              "      <td>NaN</td>\n",
              "      <td>0</td>\n",
              "    </tr>\n",
              "    <tr>\n",
              "      <th>10</th>\n",
              "      <td>73839</td>\n",
              "      <td>3</td>\n",
              "      <td>1</td>\n",
              "      <td>22</td>\n",
              "      <td>489</td>\n",
              "      <td>2017-11-08 08:14:37</td>\n",
              "      <td>NaN</td>\n",
              "      <td>0</td>\n",
              "    </tr>\n",
              "    <tr>\n",
              "      <th>11</th>\n",
              "      <td>34812</td>\n",
              "      <td>3</td>\n",
              "      <td>1</td>\n",
              "      <td>13</td>\n",
              "      <td>489</td>\n",
              "      <td>2017-11-07 05:03:14</td>\n",
              "      <td>NaN</td>\n",
              "      <td>0</td>\n",
              "    </tr>\n",
              "    <tr>\n",
              "      <th>12</th>\n",
              "      <td>114809</td>\n",
              "      <td>3</td>\n",
              "      <td>1</td>\n",
              "      <td>22</td>\n",
              "      <td>205</td>\n",
              "      <td>2017-11-09 10:24:23</td>\n",
              "      <td>NaN</td>\n",
              "      <td>0</td>\n",
              "    </tr>\n",
              "    <tr>\n",
              "      <th>13</th>\n",
              "      <td>114220</td>\n",
              "      <td>6</td>\n",
              "      <td>1</td>\n",
              "      <td>20</td>\n",
              "      <td>125</td>\n",
              "      <td>2017-11-08 14:46:16</td>\n",
              "      <td>NaN</td>\n",
              "      <td>0</td>\n",
              "    </tr>\n",
              "    <tr>\n",
              "      <th>14</th>\n",
              "      <td>36150</td>\n",
              "      <td>2</td>\n",
              "      <td>1</td>\n",
              "      <td>13</td>\n",
              "      <td>205</td>\n",
              "      <td>2017-11-07 00:54:09</td>\n",
              "      <td>NaN</td>\n",
              "      <td>0</td>\n",
              "    </tr>\n",
              "    <tr>\n",
              "      <th>15</th>\n",
              "      <td>72116</td>\n",
              "      <td>25</td>\n",
              "      <td>2</td>\n",
              "      <td>19</td>\n",
              "      <td>259</td>\n",
              "      <td>2017-11-08 23:17:45</td>\n",
              "      <td>NaN</td>\n",
              "      <td>0</td>\n",
              "    </tr>\n",
              "    <tr>\n",
              "      <th>16</th>\n",
              "      <td>5314</td>\n",
              "      <td>2</td>\n",
              "      <td>1</td>\n",
              "      <td>2</td>\n",
              "      <td>477</td>\n",
              "      <td>2017-11-09 07:33:41</td>\n",
              "      <td>NaN</td>\n",
              "      <td>0</td>\n",
              "    </tr>\n",
              "    <tr>\n",
              "      <th>17</th>\n",
              "      <td>106598</td>\n",
              "      <td>3</td>\n",
              "      <td>1</td>\n",
              "      <td>20</td>\n",
              "      <td>280</td>\n",
              "      <td>2017-11-09 03:44:35</td>\n",
              "      <td>NaN</td>\n",
              "      <td>0</td>\n",
              "    </tr>\n",
              "    <tr>\n",
              "      <th>18</th>\n",
              "      <td>72065</td>\n",
              "      <td>20</td>\n",
              "      <td>2</td>\n",
              "      <td>90</td>\n",
              "      <td>259</td>\n",
              "      <td>2017-11-06 23:14:08</td>\n",
              "      <td>NaN</td>\n",
              "      <td>0</td>\n",
              "    </tr>\n",
              "    <tr>\n",
              "      <th>19</th>\n",
              "      <td>37301</td>\n",
              "      <td>14</td>\n",
              "      <td>1</td>\n",
              "      <td>13</td>\n",
              "      <td>349</td>\n",
              "      <td>2017-11-06 20:07:00</td>\n",
              "      <td>NaN</td>\n",
              "      <td>0</td>\n",
              "    </tr>\n",
              "    <tr>\n",
              "      <th>20</th>\n",
              "      <td>28735</td>\n",
              "      <td>12</td>\n",
              "      <td>1</td>\n",
              "      <td>19</td>\n",
              "      <td>265</td>\n",
              "      <td>2017-11-09 09:55:22</td>\n",
              "      <td>NaN</td>\n",
              "      <td>0</td>\n",
              "    </tr>\n",
              "    <tr>\n",
              "      <th>21</th>\n",
              "      <td>66918</td>\n",
              "      <td>64</td>\n",
              "      <td>1</td>\n",
              "      <td>25</td>\n",
              "      <td>459</td>\n",
              "      <td>2017-11-08 17:01:58</td>\n",
              "      <td>NaN</td>\n",
              "      <td>0</td>\n",
              "    </tr>\n",
              "    <tr>\n",
              "      <th>22</th>\n",
              "      <td>25761</td>\n",
              "      <td>9</td>\n",
              "      <td>1</td>\n",
              "      <td>10</td>\n",
              "      <td>215</td>\n",
              "      <td>2017-11-08 02:05:37</td>\n",
              "      <td>NaN</td>\n",
              "      <td>0</td>\n",
              "    </tr>\n",
              "    <tr>\n",
              "      <th>23</th>\n",
              "      <td>8362</td>\n",
              "      <td>7</td>\n",
              "      <td>1</td>\n",
              "      <td>19</td>\n",
              "      <td>101</td>\n",
              "      <td>2017-11-07 10:30:00</td>\n",
              "      <td>NaN</td>\n",
              "      <td>0</td>\n",
              "    </tr>\n",
              "    <tr>\n",
              "      <th>24</th>\n",
              "      <td>45257</td>\n",
              "      <td>3</td>\n",
              "      <td>1</td>\n",
              "      <td>18</td>\n",
              "      <td>280</td>\n",
              "      <td>2017-11-07 01:35:31</td>\n",
              "      <td>NaN</td>\n",
              "      <td>0</td>\n",
              "    </tr>\n",
              "    <tr>\n",
              "      <th>25</th>\n",
              "      <td>145896</td>\n",
              "      <td>64</td>\n",
              "      <td>1</td>\n",
              "      <td>13</td>\n",
              "      <td>459</td>\n",
              "      <td>2017-11-07 03:58:58</td>\n",
              "      <td>NaN</td>\n",
              "      <td>0</td>\n",
              "    </tr>\n",
              "    <tr>\n",
              "      <th>26</th>\n",
              "      <td>162976</td>\n",
              "      <td>3</td>\n",
              "      <td>1</td>\n",
              "      <td>13</td>\n",
              "      <td>115</td>\n",
              "      <td>2017-11-07 16:19:05</td>\n",
              "      <td>NaN</td>\n",
              "      <td>0</td>\n",
              "    </tr>\n",
              "    <tr>\n",
              "      <th>27</th>\n",
              "      <td>52432</td>\n",
              "      <td>1</td>\n",
              "      <td>1</td>\n",
              "      <td>13</td>\n",
              "      <td>115</td>\n",
              "      <td>2017-11-07 17:22:52</td>\n",
              "      <td>NaN</td>\n",
              "      <td>0</td>\n",
              "    </tr>\n",
              "    <tr>\n",
              "      <th>28</th>\n",
              "      <td>135690</td>\n",
              "      <td>12</td>\n",
              "      <td>1</td>\n",
              "      <td>40</td>\n",
              "      <td>122</td>\n",
              "      <td>2017-11-07 06:39:04</td>\n",
              "      <td>NaN</td>\n",
              "      <td>0</td>\n",
              "    </tr>\n",
              "    <tr>\n",
              "      <th>29</th>\n",
              "      <td>139137</td>\n",
              "      <td>12</td>\n",
              "      <td>1</td>\n",
              "      <td>13</td>\n",
              "      <td>497</td>\n",
              "      <td>2017-11-07 10:11:50</td>\n",
              "      <td>NaN</td>\n",
              "      <td>0</td>\n",
              "    </tr>\n",
              "  </tbody>\n",
              "</table>\n",
              "</div>"
            ],
            "text/plain": [
              "        ip  app  device  ...           click_time  attributed_time is_attributed\n",
              "0    87540   12       1  ...  2017-11-07 09:30:38              NaN             0\n",
              "1   105560   25       1  ...  2017-11-07 13:40:27              NaN             0\n",
              "2   101424   12       1  ...  2017-11-07 18:05:24              NaN             0\n",
              "3    94584   13       1  ...  2017-11-07 04:58:08              NaN             0\n",
              "4    68413   12       1  ...  2017-11-09 09:00:09              NaN             0\n",
              "5    93663    3       1  ...  2017-11-09 01:22:13              NaN             0\n",
              "6    17059    1       1  ...  2017-11-09 01:17:58              NaN             0\n",
              "7   121505    9       1  ...  2017-11-07 10:01:53              NaN             0\n",
              "8   192967    2       2  ...  2017-11-08 09:35:17              NaN             0\n",
              "9   143636    3       1  ...  2017-11-08 12:35:26              NaN             0\n",
              "10   73839    3       1  ...  2017-11-08 08:14:37              NaN             0\n",
              "11   34812    3       1  ...  2017-11-07 05:03:14              NaN             0\n",
              "12  114809    3       1  ...  2017-11-09 10:24:23              NaN             0\n",
              "13  114220    6       1  ...  2017-11-08 14:46:16              NaN             0\n",
              "14   36150    2       1  ...  2017-11-07 00:54:09              NaN             0\n",
              "15   72116   25       2  ...  2017-11-08 23:17:45              NaN             0\n",
              "16    5314    2       1  ...  2017-11-09 07:33:41              NaN             0\n",
              "17  106598    3       1  ...  2017-11-09 03:44:35              NaN             0\n",
              "18   72065   20       2  ...  2017-11-06 23:14:08              NaN             0\n",
              "19   37301   14       1  ...  2017-11-06 20:07:00              NaN             0\n",
              "20   28735   12       1  ...  2017-11-09 09:55:22              NaN             0\n",
              "21   66918   64       1  ...  2017-11-08 17:01:58              NaN             0\n",
              "22   25761    9       1  ...  2017-11-08 02:05:37              NaN             0\n",
              "23    8362    7       1  ...  2017-11-07 10:30:00              NaN             0\n",
              "24   45257    3       1  ...  2017-11-07 01:35:31              NaN             0\n",
              "25  145896   64       1  ...  2017-11-07 03:58:58              NaN             0\n",
              "26  162976    3       1  ...  2017-11-07 16:19:05              NaN             0\n",
              "27   52432    1       1  ...  2017-11-07 17:22:52              NaN             0\n",
              "28  135690   12       1  ...  2017-11-07 06:39:04              NaN             0\n",
              "29  139137   12       1  ...  2017-11-07 10:11:50              NaN             0\n",
              "\n",
              "[30 rows x 8 columns]"
            ]
          },
          "metadata": {},
          "execution_count": 58
        }
      ]
    },
    {
      "cell_type": "code",
      "metadata": {
        "colab": {
          "base_uri": "https://localhost:8080/"
        },
        "id": "suUJLRu3ndom",
        "outputId": "1bcb4495-e94e-4474-feac-45a7e7c86d0e"
      },
      "source": [
        "df.shape"
      ],
      "execution_count": null,
      "outputs": [
        {
          "output_type": "execute_result",
          "data": {
            "text/plain": [
              "(100000, 8)"
            ]
          },
          "metadata": {},
          "execution_count": 59
        }
      ]
    },
    {
      "cell_type": "code",
      "metadata": {
        "colab": {
          "base_uri": "https://localhost:8080/"
        },
        "id": "gB5j2Thwndom",
        "scrolled": true,
        "outputId": "c89ca22a-a9ac-4ca8-d721-8e7885e118eb"
      },
      "source": [
        "df.info()"
      ],
      "execution_count": null,
      "outputs": [
        {
          "output_type": "stream",
          "name": "stdout",
          "text": [
            "<class 'pandas.core.frame.DataFrame'>\n",
            "RangeIndex: 100000 entries, 0 to 99999\n",
            "Data columns (total 8 columns):\n",
            " #   Column           Non-Null Count   Dtype \n",
            "---  ------           --------------   ----- \n",
            " 0   ip               100000 non-null  int64 \n",
            " 1   app              100000 non-null  int64 \n",
            " 2   device           100000 non-null  int64 \n",
            " 3   os               100000 non-null  int64 \n",
            " 4   channel          100000 non-null  int64 \n",
            " 5   click_time       100000 non-null  object\n",
            " 6   attributed_time  227 non-null     object\n",
            " 7   is_attributed    100000 non-null  int64 \n",
            "dtypes: int64(6), object(2)\n",
            "memory usage: 6.1+ MB\n"
          ]
        }
      ]
    },
    {
      "cell_type": "code",
      "metadata": {
        "colab": {
          "base_uri": "https://localhost:8080/"
        },
        "id": "eCUh-RzJndon",
        "outputId": "c53c2d55-90ab-4a11-e799-3aa0f94ab155"
      },
      "source": [
        "df.isnull().sum()"
      ],
      "execution_count": null,
      "outputs": [
        {
          "output_type": "execute_result",
          "data": {
            "text/plain": [
              "ip                     0\n",
              "app                    0\n",
              "device                 0\n",
              "os                     0\n",
              "channel                0\n",
              "click_time             0\n",
              "attributed_time    99773\n",
              "is_attributed          0\n",
              "dtype: int64"
            ]
          },
          "metadata": {},
          "execution_count": 61
        }
      ]
    },
    {
      "cell_type": "code",
      "metadata": {
        "colab": {
          "base_uri": "https://localhost:8080/"
        },
        "id": "JmClDWCfndon",
        "outputId": "b62f3b09-1446-43bb-8d8b-7559a8e59dfd"
      },
      "source": [
        "df.isnull().values.any()"
      ],
      "execution_count": null,
      "outputs": [
        {
          "output_type": "execute_result",
          "data": {
            "text/plain": [
              "True"
            ]
          },
          "metadata": {},
          "execution_count": 62
        }
      ]
    },
    {
      "cell_type": "code",
      "metadata": {
        "id": "EPWAg8tqndon",
        "scrolled": true
      },
      "source": [
        "df= df.drop(['attributed_time'],axis= 1)"
      ],
      "execution_count": null,
      "outputs": []
    },
    {
      "cell_type": "code",
      "metadata": {
        "colab": {
          "base_uri": "https://localhost:8080/",
          "height": 204
        },
        "id": "-j3vJTmHndon",
        "outputId": "3f2cb949-3785-40ff-b126-e479e7ff0082"
      },
      "source": [
        "df.head()"
      ],
      "execution_count": null,
      "outputs": [
        {
          "output_type": "execute_result",
          "data": {
            "text/html": [
              "<div>\n",
              "<style scoped>\n",
              "    .dataframe tbody tr th:only-of-type {\n",
              "        vertical-align: middle;\n",
              "    }\n",
              "\n",
              "    .dataframe tbody tr th {\n",
              "        vertical-align: top;\n",
              "    }\n",
              "\n",
              "    .dataframe thead th {\n",
              "        text-align: right;\n",
              "    }\n",
              "</style>\n",
              "<table border=\"1\" class=\"dataframe\">\n",
              "  <thead>\n",
              "    <tr style=\"text-align: right;\">\n",
              "      <th></th>\n",
              "      <th>ip</th>\n",
              "      <th>app</th>\n",
              "      <th>device</th>\n",
              "      <th>os</th>\n",
              "      <th>channel</th>\n",
              "      <th>click_time</th>\n",
              "      <th>is_attributed</th>\n",
              "    </tr>\n",
              "  </thead>\n",
              "  <tbody>\n",
              "    <tr>\n",
              "      <th>0</th>\n",
              "      <td>87540</td>\n",
              "      <td>12</td>\n",
              "      <td>1</td>\n",
              "      <td>13</td>\n",
              "      <td>497</td>\n",
              "      <td>2017-11-07 09:30:38</td>\n",
              "      <td>0</td>\n",
              "    </tr>\n",
              "    <tr>\n",
              "      <th>1</th>\n",
              "      <td>105560</td>\n",
              "      <td>25</td>\n",
              "      <td>1</td>\n",
              "      <td>17</td>\n",
              "      <td>259</td>\n",
              "      <td>2017-11-07 13:40:27</td>\n",
              "      <td>0</td>\n",
              "    </tr>\n",
              "    <tr>\n",
              "      <th>2</th>\n",
              "      <td>101424</td>\n",
              "      <td>12</td>\n",
              "      <td>1</td>\n",
              "      <td>19</td>\n",
              "      <td>212</td>\n",
              "      <td>2017-11-07 18:05:24</td>\n",
              "      <td>0</td>\n",
              "    </tr>\n",
              "    <tr>\n",
              "      <th>3</th>\n",
              "      <td>94584</td>\n",
              "      <td>13</td>\n",
              "      <td>1</td>\n",
              "      <td>13</td>\n",
              "      <td>477</td>\n",
              "      <td>2017-11-07 04:58:08</td>\n",
              "      <td>0</td>\n",
              "    </tr>\n",
              "    <tr>\n",
              "      <th>4</th>\n",
              "      <td>68413</td>\n",
              "      <td>12</td>\n",
              "      <td>1</td>\n",
              "      <td>1</td>\n",
              "      <td>178</td>\n",
              "      <td>2017-11-09 09:00:09</td>\n",
              "      <td>0</td>\n",
              "    </tr>\n",
              "  </tbody>\n",
              "</table>\n",
              "</div>"
            ],
            "text/plain": [
              "       ip  app  device  os  channel           click_time  is_attributed\n",
              "0   87540   12       1  13      497  2017-11-07 09:30:38              0\n",
              "1  105560   25       1  17      259  2017-11-07 13:40:27              0\n",
              "2  101424   12       1  19      212  2017-11-07 18:05:24              0\n",
              "3   94584   13       1  13      477  2017-11-07 04:58:08              0\n",
              "4   68413   12       1   1      178  2017-11-09 09:00:09              0"
            ]
          },
          "metadata": {},
          "execution_count": 64
        }
      ]
    },
    {
      "cell_type": "code",
      "metadata": {
        "colab": {
          "base_uri": "https://localhost:8080/"
        },
        "id": "92XTnzhdndon",
        "outputId": "a52ccdb9-ac3b-486d-f0e4-dd5c237ac154"
      },
      "source": [
        "df.nunique()"
      ],
      "execution_count": null,
      "outputs": [
        {
          "output_type": "execute_result",
          "data": {
            "text/plain": [
              "ip               34857\n",
              "app                161\n",
              "device             100\n",
              "os                 130\n",
              "channel            161\n",
              "click_time       80350\n",
              "is_attributed        2\n",
              "dtype: int64"
            ]
          },
          "metadata": {},
          "execution_count": 65
        }
      ]
    },
    {
      "cell_type": "code",
      "metadata": {
        "colab": {
          "base_uri": "https://localhost:8080/"
        },
        "id": "y6VXfVKDndoo",
        "outputId": "373d750a-f38b-4ace-96fd-2fd1f7889efe"
      },
      "source": [
        "df['app'].value_counts(ascending=False)"
      ],
      "execution_count": null,
      "outputs": [
        {
          "output_type": "execute_result",
          "data": {
            "text/plain": [
              "3      18279\n",
              "12     13198\n",
              "2      11737\n",
              "9       8992\n",
              "15      8595\n",
              "       ...  \n",
              "407        1\n",
              "145        1\n",
              "271        1\n",
              "398        1\n",
              "92         1\n",
              "Name: app, Length: 161, dtype: int64"
            ]
          },
          "metadata": {},
          "execution_count": 66
        }
      ]
    },
    {
      "cell_type": "code",
      "metadata": {
        "colab": {
          "base_uri": "https://localhost:8080/",
          "height": 204
        },
        "id": "lFhpflUxndoo",
        "outputId": "b08ccd04-aceb-4662-9c85-d6adb7bfe3eb"
      },
      "source": [
        "frequent_apps=df.groupby('app').size().reset_index(name='count')\n",
        "frequent_apps=frequent_apps[frequent_apps['count'] > frequent_apps['count'].quantile(0.2)]\n",
        "frequent_apps=frequent_apps.merge(df,on='app',how='inner')\n",
        "frequent_apps.head()"
      ],
      "execution_count": null,
      "outputs": [
        {
          "output_type": "execute_result",
          "data": {
            "text/html": [
              "<div>\n",
              "<style scoped>\n",
              "    .dataframe tbody tr th:only-of-type {\n",
              "        vertical-align: middle;\n",
              "    }\n",
              "\n",
              "    .dataframe tbody tr th {\n",
              "        vertical-align: top;\n",
              "    }\n",
              "\n",
              "    .dataframe thead th {\n",
              "        text-align: right;\n",
              "    }\n",
              "</style>\n",
              "<table border=\"1\" class=\"dataframe\">\n",
              "  <thead>\n",
              "    <tr style=\"text-align: right;\">\n",
              "      <th></th>\n",
              "      <th>app</th>\n",
              "      <th>count</th>\n",
              "      <th>ip</th>\n",
              "      <th>device</th>\n",
              "      <th>os</th>\n",
              "      <th>channel</th>\n",
              "      <th>click_time</th>\n",
              "      <th>is_attributed</th>\n",
              "    </tr>\n",
              "  </thead>\n",
              "  <tbody>\n",
              "    <tr>\n",
              "      <th>0</th>\n",
              "      <td>1</td>\n",
              "      <td>3135</td>\n",
              "      <td>17059</td>\n",
              "      <td>1</td>\n",
              "      <td>17</td>\n",
              "      <td>135</td>\n",
              "      <td>2017-11-09 01:17:58</td>\n",
              "      <td>0</td>\n",
              "    </tr>\n",
              "    <tr>\n",
              "      <th>1</th>\n",
              "      <td>1</td>\n",
              "      <td>3135</td>\n",
              "      <td>52432</td>\n",
              "      <td>1</td>\n",
              "      <td>13</td>\n",
              "      <td>115</td>\n",
              "      <td>2017-11-07 17:22:52</td>\n",
              "      <td>0</td>\n",
              "    </tr>\n",
              "    <tr>\n",
              "      <th>2</th>\n",
              "      <td>1</td>\n",
              "      <td>3135</td>\n",
              "      <td>89242</td>\n",
              "      <td>1</td>\n",
              "      <td>27</td>\n",
              "      <td>124</td>\n",
              "      <td>2017-11-07 09:37:21</td>\n",
              "      <td>0</td>\n",
              "    </tr>\n",
              "    <tr>\n",
              "      <th>3</th>\n",
              "      <td>1</td>\n",
              "      <td>3135</td>\n",
              "      <td>123994</td>\n",
              "      <td>1</td>\n",
              "      <td>19</td>\n",
              "      <td>101</td>\n",
              "      <td>2017-11-09 14:27:57</td>\n",
              "      <td>0</td>\n",
              "    </tr>\n",
              "    <tr>\n",
              "      <th>4</th>\n",
              "      <td>1</td>\n",
              "      <td>3135</td>\n",
              "      <td>34067</td>\n",
              "      <td>1</td>\n",
              "      <td>15</td>\n",
              "      <td>134</td>\n",
              "      <td>2017-11-07 15:06:06</td>\n",
              "      <td>0</td>\n",
              "    </tr>\n",
              "  </tbody>\n",
              "</table>\n",
              "</div>"
            ],
            "text/plain": [
              "   app  count      ip  device  os  channel           click_time  is_attributed\n",
              "0    1   3135   17059       1  17      135  2017-11-09 01:17:58              0\n",
              "1    1   3135   52432       1  13      115  2017-11-07 17:22:52              0\n",
              "2    1   3135   89242       1  27      124  2017-11-07 09:37:21              0\n",
              "3    1   3135  123994       1  19      101  2017-11-09 14:27:57              0\n",
              "4    1   3135   34067       1  15      134  2017-11-07 15:06:06              0"
            ]
          },
          "metadata": {},
          "execution_count": 67
        }
      ]
    },
    {
      "cell_type": "code",
      "metadata": {
        "colab": {
          "base_uri": "https://localhost:8080/"
        },
        "id": "cHXBDWAOndoo",
        "outputId": "a41f5c18-6a81-48a9-d38f-e493625c9b15"
      },
      "source": [
        "frequent_apps.shape"
      ],
      "execution_count": null,
      "outputs": [
        {
          "output_type": "execute_result",
          "data": {
            "text/plain": [
              "(99961, 8)"
            ]
          },
          "metadata": {},
          "execution_count": 68
        }
      ]
    },
    {
      "cell_type": "code",
      "metadata": {
        "colab": {
          "base_uri": "https://localhost:8080/"
        },
        "id": "3tbfoLBwndoo",
        "outputId": "f285d14e-5681-4a17-b133-5ef63b4b9f89"
      },
      "source": [
        "frequent_apps.info()"
      ],
      "execution_count": null,
      "outputs": [
        {
          "output_type": "stream",
          "name": "stdout",
          "text": [
            "<class 'pandas.core.frame.DataFrame'>\n",
            "Int64Index: 99961 entries, 0 to 99960\n",
            "Data columns (total 8 columns):\n",
            " #   Column         Non-Null Count  Dtype \n",
            "---  ------         --------------  ----- \n",
            " 0   app            99961 non-null  int64 \n",
            " 1   count          99961 non-null  int64 \n",
            " 2   ip             99961 non-null  int64 \n",
            " 3   device         99961 non-null  int64 \n",
            " 4   os             99961 non-null  int64 \n",
            " 5   channel        99961 non-null  int64 \n",
            " 6   click_time     99961 non-null  object\n",
            " 7   is_attributed  99961 non-null  int64 \n",
            "dtypes: int64(7), object(1)\n",
            "memory usage: 6.9+ MB\n"
          ]
        }
      ]
    },
    {
      "cell_type": "code",
      "metadata": {
        "colab": {
          "base_uri": "https://localhost:8080/"
        },
        "id": "5Gh72NR6ndoo",
        "outputId": "09894ec2-90a6-4389-e2c4-04476fa0141b"
      },
      "source": [
        "df.info()"
      ],
      "execution_count": null,
      "outputs": [
        {
          "output_type": "stream",
          "name": "stdout",
          "text": [
            "<class 'pandas.core.frame.DataFrame'>\n",
            "RangeIndex: 100000 entries, 0 to 99999\n",
            "Data columns (total 7 columns):\n",
            " #   Column         Non-Null Count   Dtype \n",
            "---  ------         --------------   ----- \n",
            " 0   ip             100000 non-null  int64 \n",
            " 1   app            100000 non-null  int64 \n",
            " 2   device         100000 non-null  int64 \n",
            " 3   os             100000 non-null  int64 \n",
            " 4   channel        100000 non-null  int64 \n",
            " 5   click_time     100000 non-null  object\n",
            " 6   is_attributed  100000 non-null  int64 \n",
            "dtypes: int64(6), object(1)\n",
            "memory usage: 5.3+ MB\n"
          ]
        }
      ]
    },
    {
      "cell_type": "code",
      "metadata": {
        "colab": {
          "base_uri": "https://localhost:8080/",
          "height": 1000
        },
        "id": "rVmgnya9ndop",
        "outputId": "b473afb2-4c39-4d50-bd94-be295733f28b"
      },
      "source": [
        "import matplotlib.pyplot as plt\n",
        "import seaborn as sns\n",
        "plt.figure(figsize= (15,20))\n",
        "sns.countplot(y=\"app\", hue=\"is_attributed\", data=frequent_apps);"
      ],
      "execution_count": null,
      "outputs": [
        {
          "output_type": "display_data",
          "data": {
            "image/png": "[encoded data removed]",
            "text/plain": [
              "<Figure size 1080x1440 with 1 Axes>"
            ]
          },
          "metadata": {
            "needs_background": "light"
          }
        }
      ]
    },
    {
      "cell_type": "code",
      "metadata": {
        "colab": {
          "base_uri": "https://localhost:8080/",
          "height": 1000
        },
        "id": "Is4YLbuDndop",
        "outputId": "79b1b35e-c2df-4dff-ab2b-237d18416fdc"
      },
      "source": [
        "plt.figure(figsize= (15,20))\n",
        "sns.countplot(y=\"device\", hue=\"is_attributed\", data=frequent_apps);"
      ],
      "execution_count": null,
      "outputs": [
        {
          "output_type": "display_data",
          "data": {
            "image/png": "[encoded data removed]",
            "text/plain": [
              "<Figure size 1080x1440 with 1 Axes>"
            ]
          },
          "metadata": {
            "needs_background": "light"
          }
        }
      ]
    },
    {
      "cell_type": "code",
      "metadata": {
        "colab": {
          "base_uri": "https://localhost:8080/",
          "height": 1000
        },
        "id": "nO82x1D6ndop",
        "outputId": "58b2ff08-fe2a-4e4b-9f24-18c513f43072"
      },
      "source": [
        "plt.figure(figsize= (15,20))\n",
        "sns.countplot(y=\"channel\", hue=\"is_attributed\", data=frequent_apps);"
      ],
      "execution_count": null,
      "outputs": [
        {
          "output_type": "display_data",
          "data": {
            "image/png": "[encoded data removed]",
            "text/plain": [
              "<Figure size 1080x1440 with 1 Axes>"
            ]
          },
          "metadata": {
            "needs_background": "light"
          }
        }
      ]
    },
    {
      "cell_type": "code",
      "metadata": {
        "colab": {
          "base_uri": "https://localhost:8080/",
          "height": 1000
        },
        "id": "X-xCV8r5ndop",
        "outputId": "9b066537-a182-49c3-abfc-6871defc3a9b"
      },
      "source": [
        "plt.figure(figsize= (15,20))\n",
        "sns.countplot(y=\"os\", hue=\"is_attributed\", data=frequent_apps);"
      ],
      "execution_count": null,
      "outputs": [
        {
          "output_type": "display_data",
          "data": {
            "image/png": "[encoded data removed]",
            "text/plain": [
              "<Figure size 1080x1440 with 1 Axes>"
            ]
          },
          "metadata": {
            "needs_background": "light"
          }
        }
      ]
    },
    {
      "cell_type": "code",
      "metadata": {
        "colab": {
          "base_uri": "https://localhost:8080/",
          "height": 204
        },
        "id": "JNf2m6kRuBTC",
        "outputId": "5fbbcdb3-f149-41f6-f628-c98b06fe0313"
      },
      "source": [
        "frequent_apps.head()"
      ],
      "execution_count": null,
      "outputs": [
        {
          "output_type": "execute_result",
          "data": {
            "text/html": [
              "<div>\n",
              "<style scoped>\n",
              "    .dataframe tbody tr th:only-of-type {\n",
              "        vertical-align: middle;\n",
              "    }\n",
              "\n",
              "    .dataframe tbody tr th {\n",
              "        vertical-align: top;\n",
              "    }\n",
              "\n",
              "    .dataframe thead th {\n",
              "        text-align: right;\n",
              "    }\n",
              "</style>\n",
              "<table border=\"1\" class=\"dataframe\">\n",
              "  <thead>\n",
              "    <tr style=\"text-align: right;\">\n",
              "      <th></th>\n",
              "      <th>app</th>\n",
              "      <th>count</th>\n",
              "      <th>ip</th>\n",
              "      <th>device</th>\n",
              "      <th>os</th>\n",
              "      <th>channel</th>\n",
              "      <th>click_time</th>\n",
              "      <th>is_attributed</th>\n",
              "    </tr>\n",
              "  </thead>\n",
              "  <tbody>\n",
              "    <tr>\n",
              "      <th>0</th>\n",
              "      <td>1</td>\n",
              "      <td>3135</td>\n",
              "      <td>17059</td>\n",
              "      <td>1</td>\n",
              "      <td>17</td>\n",
              "      <td>135</td>\n",
              "      <td>2017-11-09 01:17:58</td>\n",
              "      <td>0</td>\n",
              "    </tr>\n",
              "    <tr>\n",
              "      <th>1</th>\n",
              "      <td>1</td>\n",
              "      <td>3135</td>\n",
              "      <td>52432</td>\n",
              "      <td>1</td>\n",
              "      <td>13</td>\n",
              "      <td>115</td>\n",
              "      <td>2017-11-07 17:22:52</td>\n",
              "      <td>0</td>\n",
              "    </tr>\n",
              "    <tr>\n",
              "      <th>2</th>\n",
              "      <td>1</td>\n",
              "      <td>3135</td>\n",
              "      <td>89242</td>\n",
              "      <td>1</td>\n",
              "      <td>27</td>\n",
              "      <td>124</td>\n",
              "      <td>2017-11-07 09:37:21</td>\n",
              "      <td>0</td>\n",
              "    </tr>\n",
              "    <tr>\n",
              "      <th>3</th>\n",
              "      <td>1</td>\n",
              "      <td>3135</td>\n",
              "      <td>123994</td>\n",
              "      <td>1</td>\n",
              "      <td>19</td>\n",
              "      <td>101</td>\n",
              "      <td>2017-11-09 14:27:57</td>\n",
              "      <td>0</td>\n",
              "    </tr>\n",
              "    <tr>\n",
              "      <th>4</th>\n",
              "      <td>1</td>\n",
              "      <td>3135</td>\n",
              "      <td>34067</td>\n",
              "      <td>1</td>\n",
              "      <td>15</td>\n",
              "      <td>134</td>\n",
              "      <td>2017-11-07 15:06:06</td>\n",
              "      <td>0</td>\n",
              "    </tr>\n",
              "  </tbody>\n",
              "</table>\n",
              "</div>"
            ],
            "text/plain": [
              "   app  count      ip  device  os  channel           click_time  is_attributed\n",
              "0    1   3135   17059       1  17      135  2017-11-09 01:17:58              0\n",
              "1    1   3135   52432       1  13      115  2017-11-07 17:22:52              0\n",
              "2    1   3135   89242       1  27      124  2017-11-07 09:37:21              0\n",
              "3    1   3135  123994       1  19      101  2017-11-09 14:27:57              0\n",
              "4    1   3135   34067       1  15      134  2017-11-07 15:06:06              0"
            ]
          },
          "metadata": {},
          "execution_count": 75
        }
      ]
    },
    {
      "cell_type": "code",
      "metadata": {
        "id": "r4pIWit3ndop"
      },
      "source": [
        "def time_features(frequent_apps):\n",
        "    frequent_apps['datetime']=pd.to_datetime(frequent_apps['click_time'])\n",
        "    frequent_apps['day_of_week']=frequent_apps['datetime'].dt.dayofweek\n",
        "    frequent_apps['day_of_year']=frequent_apps['datetime'].dt.dayofyear\n",
        "    frequent_apps['month']=frequent_apps['datetime'].dt.month\n",
        "    frequent_apps['hour']=frequent_apps['datetime'].dt.hour\n",
        "    return frequent_apps"
      ],
      "execution_count": null,
      "outputs": []
    },
    {
      "cell_type": "code",
      "metadata": {
        "colab": {
          "base_uri": "https://localhost:8080/",
          "height": 204
        },
        "id": "RS5da8aendoq",
        "outputId": "35936f8d-5f38-4499-b29d-f094773d0f2f"
      },
      "source": [
        "frequent_apps=time_features(frequent_apps)\n",
        "frequent_apps.drop(['click_time','datetime'],axis=1,inplace=True)\n",
        "frequent_apps.head()"
      ],
      "execution_count": null,
      "outputs": [
        {
          "output_type": "execute_result",
          "data": {
            "text/html": [
              "<div>\n",
              "<style scoped>\n",
              "    .dataframe tbody tr th:only-of-type {\n",
              "        vertical-align: middle;\n",
              "    }\n",
              "\n",
              "    .dataframe tbody tr th {\n",
              "        vertical-align: top;\n",
              "    }\n",
              "\n",
              "    .dataframe thead th {\n",
              "        text-align: right;\n",
              "    }\n",
              "</style>\n",
              "<table border=\"1\" class=\"dataframe\">\n",
              "  <thead>\n",
              "    <tr style=\"text-align: right;\">\n",
              "      <th></th>\n",
              "      <th>app</th>\n",
              "      <th>count</th>\n",
              "      <th>ip</th>\n",
              "      <th>device</th>\n",
              "      <th>os</th>\n",
              "      <th>channel</th>\n",
              "      <th>is_attributed</th>\n",
              "      <th>day_of_week</th>\n",
              "      <th>day_of_year</th>\n",
              "      <th>month</th>\n",
              "      <th>hour</th>\n",
              "    </tr>\n",
              "  </thead>\n",
              "  <tbody>\n",
              "    <tr>\n",
              "      <th>0</th>\n",
              "      <td>1</td>\n",
              "      <td>3135</td>\n",
              "      <td>17059</td>\n",
              "      <td>1</td>\n",
              "      <td>17</td>\n",
              "      <td>135</td>\n",
              "      <td>0</td>\n",
              "      <td>3</td>\n",
              "      <td>313</td>\n",
              "      <td>11</td>\n",
              "      <td>1</td>\n",
              "    </tr>\n",
              "    <tr>\n",
              "      <th>1</th>\n",
              "      <td>1</td>\n",
              "      <td>3135</td>\n",
              "      <td>52432</td>\n",
              "      <td>1</td>\n",
              "      <td>13</td>\n",
              "      <td>115</td>\n",
              "      <td>0</td>\n",
              "      <td>1</td>\n",
              "      <td>311</td>\n",
              "      <td>11</td>\n",
              "      <td>17</td>\n",
              "    </tr>\n",
              "    <tr>\n",
              "      <th>2</th>\n",
              "      <td>1</td>\n",
              "      <td>3135</td>\n",
              "      <td>89242</td>\n",
              "      <td>1</td>\n",
              "      <td>27</td>\n",
              "      <td>124</td>\n",
              "      <td>0</td>\n",
              "      <td>1</td>\n",
              "      <td>311</td>\n",
              "      <td>11</td>\n",
              "      <td>9</td>\n",
              "    </tr>\n",
              "    <tr>\n",
              "      <th>3</th>\n",
              "      <td>1</td>\n",
              "      <td>3135</td>\n",
              "      <td>123994</td>\n",
              "      <td>1</td>\n",
              "      <td>19</td>\n",
              "      <td>101</td>\n",
              "      <td>0</td>\n",
              "      <td>3</td>\n",
              "      <td>313</td>\n",
              "      <td>11</td>\n",
              "      <td>14</td>\n",
              "    </tr>\n",
              "    <tr>\n",
              "      <th>4</th>\n",
              "      <td>1</td>\n",
              "      <td>3135</td>\n",
              "      <td>34067</td>\n",
              "      <td>1</td>\n",
              "      <td>15</td>\n",
              "      <td>134</td>\n",
              "      <td>0</td>\n",
              "      <td>1</td>\n",
              "      <td>311</td>\n",
              "      <td>11</td>\n",
              "      <td>15</td>\n",
              "    </tr>\n",
              "  </tbody>\n",
              "</table>\n",
              "</div>"
            ],
            "text/plain": [
              "   app  count      ip  device  ...  day_of_week  day_of_year  month  hour\n",
              "0    1   3135   17059       1  ...            3          313     11     1\n",
              "1    1   3135   52432       1  ...            1          311     11    17\n",
              "2    1   3135   89242       1  ...            1          311     11     9\n",
              "3    1   3135  123994       1  ...            3          313     11    14\n",
              "4    1   3135   34067       1  ...            1          311     11    15\n",
              "\n",
              "[5 rows x 11 columns]"
            ]
          },
          "metadata": {},
          "execution_count": 77
        }
      ]
    },
    {
      "cell_type": "code",
      "metadata": {
        "id": "dsu6geXPndoq"
      },
      "source": [
        "X = frequent_apps.drop('is_attributed', axis=1)\n",
        "y = frequent_apps[['is_attributed']]"
      ],
      "execution_count": null,
      "outputs": []
    },
    {
      "cell_type": "code",
      "metadata": {
        "colab": {
          "base_uri": "https://localhost:8080/"
        },
        "id": "7H49-Z2_ndoq",
        "outputId": "543eeaa6-f3a2-4c46-a6b5-b91df830a0b0"
      },
      "source": [
        "X_train, X_test, y_train, y_test = train_test_split(X, y, test_size=0.20, random_state=101)\n",
        "print(X_train.shape)\n",
        "print(y_train.shape)\n",
        "print(X_test.shape)\n",
        "print(y_test.shape)"
      ],
      "execution_count": null,
      "outputs": [
        {
          "output_type": "stream",
          "name": "stdout",
          "text": [
            "(79968, 10)\n",
            "(79968, 1)\n",
            "(19993, 10)\n",
            "(19993, 1)\n"
          ]
        }
      ]
    },
    {
      "cell_type": "code",
      "metadata": {
        "colab": {
          "base_uri": "https://localhost:8080/"
        },
        "id": "PLg1J5tn2G-I",
        "outputId": "a0f28715-fc50-4808-e530-da60d7a9ca99"
      },
      "source": [
        "kf = KFold(n_splits = 3)\n",
        "kf"
      ],
      "execution_count": null,
      "outputs": [
        {
          "output_type": "execute_result",
          "data": {
            "text/plain": [
              "KFold(n_splits=3, random_state=None, shuffle=False)"
            ]
          },
          "metadata": {},
          "execution_count": 82
        }
      ]
    },
    {
      "cell_type": "code",
      "metadata": {
        "id": "I38v3Pef2hD-"
      },
      "source": [
        "def get_score(model, X_train, X_test, y_train, y_test):\n",
        "  model.fit(X_train, y_train)\n",
        "  return model.score(X_test, y_test)"
      ],
      "execution_count": null,
      "outputs": []
    },
    {
      "cell_type": "code",
      "metadata": {
        "colab": {
          "base_uri": "https://localhost:8080/"
        },
        "id": "t7zG1wa225BJ",
        "outputId": "13306098-d08b-45ee-95ea-78d54d883d87"
      },
      "source": [
        "from sklearn.ensemble import RandomForestClassifier, AdaBoostClassifier, BaggingClassifier, GradientBoostingClassifier  \n",
        "rfcl = RandomForestClassifier(criterion = 'entropy', class_weight = {0:.5, 1:.5}, max_depth = 5, min_samples_leaf = 5)\n",
        "rfcl"
      ],
      "execution_count": null,
      "outputs": [
        {
          "output_type": "execute_result",
          "data": {
            "text/plain": [
              "RandomForestClassifier(bootstrap=True, ccp_alpha=0.0,\n",
              "                       class_weight={0: 0.5, 1: 0.5}, criterion='entropy',\n",
              "                       max_depth=5, max_features='auto', max_leaf_nodes=None,\n",
              "                       max_samples=None, min_impurity_decrease=0.0,\n",
              "                       min_impurity_split=None, min_samples_leaf=5,\n",
              "                       min_samples_split=2, min_weight_fraction_leaf=0.0,\n",
              "                       n_estimators=100, n_jobs=None, oob_score=False,\n",
              "                       random_state=None, verbose=0, warm_start=False)"
            ]
          },
          "metadata": {},
          "execution_count": 92
        }
      ]
    },
    {
      "cell_type": "code",
      "metadata": {
        "colab": {
          "base_uri": "https://localhost:8080/"
        },
        "id": "m8Dy8WS42_su",
        "outputId": "50cfcb15-0e1e-4d49-b09b-02008214d9c3"
      },
      "source": [
        "rfcl.fit(X_train, y_train)\n",
        "rfcl.predict(X_test)"
      ],
      "execution_count": null,
      "outputs": [
        {
          "output_type": "execute_result",
          "data": {
            "text/plain": [
              "array([0, 0, 0, ..., 0, 0, 0])"
            ]
          },
          "metadata": {},
          "execution_count": 93
        }
      ]
    },
    {
      "cell_type": "code",
      "metadata": {
        "colab": {
          "base_uri": "https://localhost:8080/"
        },
        "id": "LcJD8Tpg3w0i",
        "outputId": "8535b44e-3c52-40a8-e463-2221c4c66f13"
      },
      "source": [
        "get_score(rfcl, X_train, X_test, y_train, y_test)"
      ],
      "execution_count": null,
      "outputs": [
        {
          "output_type": "execute_result",
          "data": {
            "text/plain": [
              "0.9977992297304057"
            ]
          },
          "metadata": {},
          "execution_count": 95
        }
      ]
    },
    {
      "cell_type": "code",
      "metadata": {
        "id": "ck9zhRTD3489"
      },
      "source": [
        ""
      ],
      "execution_count": null,
      "outputs": []
    },
    {
      "cell_type": "code",
      "metadata": {
        "colab": {
          "base_uri": "https://localhost:8080/"
        },
        "id": "g4YrvU9bsz3S",
        "outputId": "5d626664-816b-44d4-91b5-ce1c4f4ea3f7"
      },
      "source": [
        "model = XGBClassifier()\n",
        "model.fit(X_train, y_train)"
      ],
      "execution_count": null,
      "outputs": [
        {
          "output_type": "execute_result",
          "data": {
            "text/plain": [
              "XGBClassifier(base_score=0.5, booster='gbtree', colsample_bylevel=1,\n",
              "              colsample_bynode=1, colsample_bytree=1, gamma=0,\n",
              "              learning_rate=0.1, max_delta_step=0, max_depth=3,\n",
              "              min_child_weight=1, missing=None, n_estimators=100, n_jobs=1,\n",
              "              nthread=None, objective='binary:logistic', random_state=0,\n",
              "              reg_alpha=0, reg_lambda=1, scale_pos_weight=1, seed=None,\n",
              "              silent=None, subsample=1, verbosity=1)"
            ]
          },
          "metadata": {},
          "execution_count": 101
        }
      ]
    },
    {
      "cell_type": "code",
      "metadata": {
        "colab": {
          "base_uri": "https://localhost:8080/"
        },
        "id": "R4tWUl1otwv9",
        "outputId": "221f3743-7fcd-4b90-81c7-b6d305a3bd0f"
      },
      "source": [
        "y_pred = y_pred[:,1] # keep the positives\n",
        "y_pred"
      ],
      "execution_count": null,
      "outputs": [
        {
          "output_type": "execute_result",
          "data": {
            "text/plain": [
              "array([0.02349542, 0.00033126, 0.0003221 , ..., 0.01026252, 0.00015564,\n",
              "       0.00019499], dtype=float32)"
            ]
          },
          "metadata": {},
          "execution_count": 105
        }
      ]
    },
    {
      "cell_type": "code",
      "metadata": {
        "colab": {
          "base_uri": "https://localhost:8080/"
        },
        "id": "y8WM4pxbuFQk",
        "outputId": "a30a3362-2e5d-4172-f79f-76a92979c7aa"
      },
      "source": [
        "ROC = metrics.roc_auc_score(y_test, y_pred[:, 1])\n",
        "print(\"AUC: %.2f%%\" % (ROC * 100.0))"
      ],
      "execution_count": null,
      "outputs": [
        {
          "output_type": "stream",
          "name": "stdout",
          "text": [
            "AUC: 94.62%\n"
          ]
        }
      ]
    },
    {
      "cell_type": "code",
      "metadata": {
        "colab": {
          "base_uri": "https://localhost:8080/"
        },
        "id": "rV_6PtOdgYBv",
        "outputId": "2fc0a541-5996-4725-c147-94286f015d60"
      },
      "source": [
        "from sklearn.metrics import confusion_matrix\n",
        "bgcl= model_cv.fit(X_train, y_train)\n",
        "test_pred = bgcl.predict(X_test)\n",
        "bgcl_score= bgcl.score(X_test, y_test)\n",
        "print(\"The bagging classfier model accuracy is {}\".format(bgcl_score))\n",
        "print(\"The confusion matrix of bagging classifier model is\")\n",
        "print(metrics.confusion_matrix(y_test,test_pred))"
      ],
      "execution_count": null,
      "outputs": [
        {
          "output_type": "stream",
          "name": "stdout",
          "text": [
            "Fitting 5 folds for each of 10 candidates, totalling 50 fits\n"
          ]
        },
        {
          "output_type": "stream",
          "name": "stderr",
          "text": [
            "[Parallel(n_jobs=1)]: Using backend SequentialBackend with 1 concurrent workers.\n",
            "[Parallel(n_jobs=1)]: Done  50 out of  50 | elapsed:  4.6min finished\n"
          ]
        },
        {
          "output_type": "stream",
          "name": "stdout",
          "text": [
            "The bagging classfier model accuracy is 0.9302664977510834\n",
            "The confusion matrix of bagging classifier model is\n",
            "[[19945     4]\n",
            " [   30    14]]\n"
          ]
        }
      ]
    },
    {
      "cell_type": "code",
      "metadata": {
        "colab": {
          "base_uri": "https://localhost:8080/"
        },
        "id": "SdV-RMMuxpOe",
        "outputId": "cca48fe9-9f05-43c6-ec15-4bce59d808a2"
      },
      "source": [
        "from sklearn.ensemble import BaggingClassifier\n",
        "\n",
        "bgcl = BaggingClassifier(n_estimators=10, max_samples= .7, bootstrap=True)\n",
        "bgcl = bgcl.fit(X_train, y_train)\n",
        "test_pred = bgcl.predict(X_test)\n",
        "bgcl_score=bgcl.score(X_test, y_test)\n",
        "print(\"The Bagging classifier model accuracy is {}\".format(bgcl_score))\n",
        "print(\"The confusion matrix of Bagging classifier model is\")"
      ],
      "execution_count": null,
      "outputs": [
        {
          "output_type": "stream",
          "name": "stdout",
          "text": [
            "The Bagging classifier model accuracy is 0.9980493172610414\n",
            "The confusion matrix of Bagging classifier model is\n"
          ]
        }
      ]
    }
  ]
}